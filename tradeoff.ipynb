{
 "cells": [
  {
   "cell_type": "code",
   "execution_count": 1,
   "metadata": {},
   "outputs": [],
   "source": [
    "import pandas as pd"
   ]
  },
  {
   "cell_type": "code",
   "execution_count": 4,
   "metadata": {},
   "outputs": [],
   "source": [
    "cnn_df = pd.read_csv('./bias/cnn_metrics.csv')\n",
    "my_bert_df = pd.read_csv('./bias/my_kaggle_bert_metrics.csv')"
   ]
  },
  {
   "cell_type": "code",
   "execution_count": 5,
   "metadata": {},
   "outputs": [],
   "source": [
    "# cnn accuracy\n",
    "total_size = 0\n",
    "cnn_auc = 0\n",
    "for index, row in cnn_df.iterrows():\n",
    "    total_size += row['subgroup_size']\n",
    "\n",
    "for index, row in cnn_df.iterrows():\n",
    "    cnn_auc += row['subgroup_size']/total_size * row['subgroup_auc']"
   ]
  },
  {
   "cell_type": "code",
   "execution_count": 6,
   "metadata": {},
   "outputs": [
    {
     "data": {
      "text/plain": [
       "0.8479096782784759"
      ]
     },
     "execution_count": 6,
     "metadata": {},
     "output_type": "execute_result"
    }
   ],
   "source": [
    "cnn_auc"
   ]
  },
  {
   "cell_type": "code",
   "execution_count": 7,
   "metadata": {},
   "outputs": [],
   "source": [
    "# my bert accuracy\n",
    "total_size = 0\n",
    "my_bert_auc = 0\n",
    "for index, row in my_bert_df.iterrows():\n",
    "    total_size += row['subgroup_size']\n",
    "\n",
    "for index, row in my_bert_df.iterrows():\n",
    "    my_bert_auc += row['subgroup_size']/total_size * row['subgroup_auc']"
   ]
  },
  {
   "cell_type": "code",
   "execution_count": 8,
   "metadata": {},
   "outputs": [
    {
     "data": {
      "text/plain": [
       "0.9099896591727302"
      ]
     },
     "execution_count": 8,
     "metadata": {},
     "output_type": "execute_result"
    }
   ],
   "source": [
    "my_bert_auc"
   ]
  }
 ],
 "metadata": {
  "kernelspec": {
   "display_name": "nlp",
   "language": "python",
   "name": "python3"
  },
  "language_info": {
   "codemirror_mode": {
    "name": "ipython",
    "version": 3
   },
   "file_extension": ".py",
   "mimetype": "text/x-python",
   "name": "python",
   "nbconvert_exporter": "python",
   "pygments_lexer": "ipython3",
   "version": "3.10.8"
  }
 },
 "nbformat": 4,
 "nbformat_minor": 2
}
